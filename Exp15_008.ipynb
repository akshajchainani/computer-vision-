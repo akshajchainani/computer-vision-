{
  "cells": [
    {
      "cell_type": "markdown",
      "id": "76a56645",
      "metadata": {
        "id": "76a56645"
      },
      "source": [
        "# Experiment No -15"
      ]
    },
    {
      "cell_type": "markdown",
      "id": "5e1b4e2f",
      "metadata": {
        "id": "5e1b4e2f"
      },
      "source": [
        "# AIM : Basics of video data (Capturing, properties)"
      ]
    },
    {
      "cell_type": "markdown",
      "id": "66a5aaec",
      "metadata": {
        "id": "66a5aaec"
      },
      "source": [
        "# Theory"
      ]
    },
    {
      "cell_type": "markdown",
      "id": "fb9d17c2",
      "metadata": {
        "id": "fb9d17c2"
      },
      "source": [
        "### 1. **Video Capture from a Webcam**\n",
        "\n",
        "   - **`cv2.VideoCapture(0)`**: Initiates video capture from the default webcam. The parameter `0` designates the primary webcam.\n",
        "   - **`cap.read()`**: Reads each frame from the webcam. `ret` returns whether the frame was captured successfully, and `frame` contains the current frame.\n",
        "   - **`cv2.imshow()`**: Opens a window to display the video feed.\n",
        "   - **`cv2.waitKey()`**: Detects keypress events; pressing 'q' exits the video capture.\n",
        "   - **Releasing resources**: `cap.release()` closes the webcam feed, and `cv2.destroyAllWindows()` terminates the display window.\n",
        "\n",
        "### 2. **Converting Frames to Grayscale**\n",
        "\n",
        "   - **`cv2.cvtColor()`**: Transforms the frame's color space from RGB to grayscale using `cv2.COLOR_RGB2GRAY`. Grayscale simplifies frame processing and analysis, as it reduces color data to intensity levels.\n",
        "\n",
        "### 3. **Resizing Frames**\n",
        "\n",
        "   - **`cv2.CAP_PROP_FRAME_WIDTH` and `cv2.CAP_PROP_FRAME_HEIGHT`**: Adjust the frame dimensions. This resizing can optimize processing speed by reducing the frame resolution.\n",
        "\n",
        "### 4. **Reading and Displaying Video from a File**\n",
        "\n",
        "   - **`cv2.VideoCapture`**: Opens a video file for frame-by-frame processing, where subsequent operations (e.g., frame reading and displaying) mirror those used for live webcam capture.\n",
        "\n",
        "### 5. **Frame Rate Control**\n",
        "\n",
        "   - **`time.sleep()`**: Pauses execution between frames to simulate a target frame rate, helping to ensure smooth playback.\n",
        "\n",
        "### 6. **Saving Video to a File**\n",
        "\n",
        "   - **`cv2.VideoWriter()`**: Initializes a video writer object for saving video. It takes the output file path, codec (using `fourcc`), frame rate (`fps`), and frame size as parameters.\n",
        "   - **`writer.write()`**: Saves each processed frame to the video file.\n",
        "\n",
        "### Key Steps:\n",
        "1. **Capture Video Data**: Frames are captured in real time, whether from a live webcam or a pre-recorded video file.\n",
        "2. **Process Frames**: Frame transformations such as grayscale conversion and resizing are applied to enable analysis or preprocessing.\n",
        "3. **Control Frame Rate**: Pauses are implemented to maintain a consistent playback or processing frame rate.\n",
        "4. **Save Processed Video**: Processed frames are saved to a new file with specified codec and frame rate settings."
      ]
    },
    {
      "cell_type": "markdown",
      "id": "11401c64",
      "metadata": {
        "id": "11401c64"
      },
      "source": [
        "# Coding Part"
      ]
    },
    {
      "cell_type": "code",
      "execution_count": null,
      "id": "be31bbc7",
      "metadata": {
        "id": "be31bbc7"
      },
      "outputs": [],
      "source": [
        "import cv2\n",
        "\n",
        "cap = cv2.VideoCapture(0)\n",
        "while True:\n",
        "    ret,frame = cap.read()\n",
        "\n",
        "    cv2.imshow('frame',frame)\n",
        "\n",
        "    if cv2.waitKey(1) & 0xFF == ord('f'):\n",
        "        break\n",
        "\n",
        "\n",
        "\n",
        "cap.release()\n",
        "cv2.destroyAllWindows()"
      ]
    },
    {
      "cell_type": "markdown",
      "id": "fc1dff53",
      "metadata": {
        "id": "fc1dff53"
      },
      "source": [
        "![image.png](attachment:image.png)"
      ]
    },
    {
      "cell_type": "code",
      "execution_count": null,
      "id": "02605fb1",
      "metadata": {
        "id": "02605fb1"
      },
      "outputs": [],
      "source": [
        "cap = cv2.VideoCapture(0)\n",
        "width = int(cap.get(cv2.CAP_PROP_FRAME_WIDTH))\n",
        "height = int(cap.get(cv2.CAP_PROP_FRAME_HEIGHT))\n",
        "\n",
        "while True:\n",
        "    ret,frame = cap.read()\n",
        "    gray = cv2.cvtColor(frame,cv2.COLOR_RGB2GRAY)\n",
        "    cv2.imshow('gray',gray)\n",
        "    if cv2.waitKey(1) & 0xFF == ord('f'):\n",
        "        break\n",
        "cap.release()\n",
        "cv2.destroyAllWindows()\n"
      ]
    },
    {
      "cell_type": "markdown",
      "id": "a3cac56d",
      "metadata": {
        "id": "a3cac56d"
      },
      "source": [
        "![image.png](attachment:image.png)"
      ]
    },
    {
      "cell_type": "code",
      "execution_count": null,
      "id": "9242ae47",
      "metadata": {
        "id": "9242ae47"
      },
      "outputs": [],
      "source": [
        "cap = cv2.VideoCapture(0)\n",
        "desired_width = 600\n",
        "desired_height= 50\n",
        "cap.set(cv2.CAP_PROP_FRAME_WIDTH,desired_width)\n",
        "cap.set(cv2.CAP_PROP_FRAME_HEIGHT,desired_height)\n",
        "width = int(cap.get(cv2.CAP_PROP_FRAME_WIDTH))\n",
        "height = int(cap.get(cv2.CAP_PROP_FRAME_HEIGHT))\n",
        "\n",
        "while True:\n",
        "    ret,frame = cap.read()\n",
        "    gray = cv2.cvtColor(frame,cv2.COLOR_RGB2GRAY)\n",
        "    cv2.imshow('gray',gray)\n",
        "    if cv2.waitKey(1) & 0xFF == ord('f'):\n",
        "        break\n",
        "cap.release()\n",
        "cv2.destroyAllWindows()"
      ]
    },
    {
      "cell_type": "markdown",
      "id": "d581c98c",
      "metadata": {
        "id": "d581c98c"
      },
      "source": [
        "![image.png](attachment:image.png)"
      ]
    },
    {
      "cell_type": "code",
      "execution_count": null,
      "id": "5e5f041f",
      "metadata": {
        "id": "5e5f041f"
      },
      "outputs": [],
      "source": [
        "cap = cv2.VideoCapture(r\"C:\\Users\\tejas\\Downloads\\new_york_city.mp4\")\n",
        "while True:\n",
        "    ret, frame = cap.read()\n",
        "    if not ret:\n",
        "        break\n",
        "    cv2.imshow('Video',frame)\n",
        "    if cv2.waitKey(1) & 0xFF == ord('f'):\n",
        "        break\n",
        "cap.release()\n",
        "cv2.destroyAllWindows()"
      ]
    },
    {
      "cell_type": "markdown",
      "id": "df0e5c90",
      "metadata": {
        "id": "df0e5c90"
      },
      "source": [
        "![image.png](attachment:image.png)"
      ]
    },
    {
      "cell_type": "code",
      "execution_count": null,
      "id": "cdb70d08",
      "metadata": {
        "id": "cdb70d08"
      },
      "outputs": [],
      "source": [
        "import time\n",
        "import cv2\n",
        "cap = cv2.VideoCapture(r\"C:\\Users\\tejas\\Downloads\\new_york_city.mp4\")\n",
        "fps = 15\n",
        "while True:\n",
        "    ret,frame = cap.read()\n",
        "    if ret:\n",
        "        time.sleep(1/fps)\n",
        "        cv2.imshow('frame',frame)\n",
        "\n",
        "        if cv2.waitKey(1) & 0xFF == ord('f'):\n",
        "            break\n",
        "    else:\n",
        "        break\n",
        "cap.release()\n",
        "cv2.destroyAllWindows()\n"
      ]
    },
    {
      "cell_type": "markdown",
      "id": "95068419",
      "metadata": {
        "id": "95068419"
      },
      "source": [
        "![image.png](attachment:image.png)"
      ]
    },
    {
      "cell_type": "markdown",
      "id": "e54c3023",
      "metadata": {
        "id": "e54c3023"
      },
      "source": [
        "# TASK"
      ]
    },
    {
      "cell_type": "markdown",
      "id": "b1f7029f",
      "metadata": {
        "id": "b1f7029f"
      },
      "source": [
        "Capture and Save your own video"
      ]
    },
    {
      "cell_type": "code",
      "execution_count": 2,
      "id": "6442260a",
      "metadata": {
        "id": "6442260a"
      },
      "outputs": [],
      "source": [
        "import cv2\n",
        "cap = cv2.VideoCapture(0)\n",
        "width = int(cap.get(cv2.CAP_PROP_FRAME_WIDTH))\n",
        "height = int(cap.get(cv2.CAP_PROP_FRAME_HEIGHT))\n",
        "\n",
        "fourcc = cv2.VideoWriter_fourcc(*'mp4v')\n",
        "\n",
        "fps=25\n",
        "save_path = r\"D:\\new15\\my_video1.mp4\"\n",
        "\n",
        "writer = cv2.VideoWriter(save_path, fourcc , fps ,(width,height))\n",
        "while True:\n",
        "    ret,frame=cap.read()\n",
        "    writer.write(frame)\n",
        "    cv2.imshow('frame',frame)\n",
        "\n",
        "    if cv2.waitKey(1)& 0xFF == ord('f'):\n",
        "        break\n",
        "writer.release()\n",
        "cap.release()\n",
        "cv2.destroyAllWindows()"
      ]
    },
    {
      "cell_type": "markdown",
      "id": "e9fdf552",
      "metadata": {
        "id": "e9fdf552"
      },
      "source": [
        "# Conclusion"
      ]
    },
    {
      "cell_type": "markdown",
      "id": "4ebdc688",
      "metadata": {
        "id": "4ebdc688"
      },
      "source": [
        "We learnt the basics of Video Data in Computer Vision"
      ]
    }
  ],
  "metadata": {
    "colab": {
      "provenance": []
    },
    "kernelspec": {
      "display_name": "Python 3",
      "language": "python",
      "name": "python3"
    },
    "language_info": {
      "codemirror_mode": {
        "name": "ipython",
        "version": 3
      },
      "file_extension": ".py",
      "mimetype": "text/x-python",
      "name": "python",
      "nbconvert_exporter": "python",
      "pygments_lexer": "ipython3",
      "version": "3.12.3"
    }
  },
  "nbformat": 4,
  "nbformat_minor": 5
}
