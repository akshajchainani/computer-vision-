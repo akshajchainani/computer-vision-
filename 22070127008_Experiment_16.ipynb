{
  "cells": [
    {
      "cell_type": "markdown",
      "metadata": {
        "id": "PS38CxhfKW8D"
      },
      "source": [
        "#**Aim :** Face detection on images and videos using haar-cascade"
      ]
    },
    {
      "cell_type": "markdown",
      "metadata": {
        "id": "Gq7v-AuVKXr_"
      },
      "source": [
        "#**Theory :**\n",
        "\n",
        "Face detection identifies human faces within digital images and videos, often achieved using Haar-Cascade classifiers, a method introduced by Viola and Jones in 2001. This technique is among the first to provide real-time face detection, utilizing a pre-trained model built on Haar feature-based cascade classifiers developed through machine learning.\n",
        "\n",
        "A Haar Cascade is a widely used tool in computer vision for detecting objects, particularly faces, in images or videos. It works by searching for specific patterns or features, such as the shapes of eyes, noses, or mouths, and combines these to recognize a face.\n",
        "\n",
        "This detection process uses a series of simple filters, or \"features,\" that identify light and dark areas in certain positions (like the contrast between the eyes and cheeks). The filters are arranged in \"cascades\" or sequential stages, meaning that only the regions passing all checks are recognized as a face.\n",
        "\n",
        "The Haar Cascade’s efficiency and light processing requirements make it ideal for real-time applications, such as face detection in photos and videos.\n",
        "\n",
        "Key components of Haar Cascade:\n",
        "\n",
        "1. **Haar Features**: Basic patterns that detect contrasts like edges and lines, helping locate facial structures.\n",
        "\n",
        "2. **Integral Image**: This format accelerates feature calculation by simplifying pixel sum computations, allowing quick detection.\n",
        "\n",
        "3. **Cascade of Classifiers**: The detection process is divided into stages, each stage filtering out non-face regions, enhancing detection speed.\n",
        "\n",
        "4. **Training with Samples**: The classifier is trained on extensive face and non-face images, ensuring accurate face pattern identification."
      ]
    },
    {
      "cell_type": "code",
      "execution_count": null,
      "metadata": {
        "id": "k9ef0JT_KVBp"
      },
      "outputs": [],
      "source": [
        "import cv2\n"
      ]
    },
    {
      "cell_type": "code",
      "execution_count": null,
      "metadata": {
        "id": "S1nLM5ouKVBu"
      },
      "outputs": [],
      "source": [
        "face_cascade=cv2.CascadeClassifier(r'C:\\Users\\lenovo\\Documents\\VScode datasets\\haarcascade_frontalface_default.xml')\n",
        "img=cv2.imread(r'C:\\Users\\lenovo\\Documents\\VScode datasets\\group_photo (1).jpg')\n",
        "gray=cv2.cvtColor(img,cv2.COLOR_BGR2GRAY)\n",
        "faces=face_cascade.detectMultiScale(gray,scaleFactor=1.5,\n",
        "                                    minNeighbors =7,\n",
        "                                    minSize=(40,40))\n",
        "for(x,y,w,h) in faces:\n",
        "  cv2.rectangle(img,(x,y),(x+w,y+h),(255,0,255,4))\n",
        "cv2.imshow('Image',img)\n",
        "cv2.waitKey()\n",
        "cv2.destroyAllWindows()"
      ]
    },
    {
      "cell_type": "markdown",
      "metadata": {
        "id": "J8R_ikNBLWkr"
      },
      "source": [
        "#**Task :**"
      ]
    },
    {
      "cell_type": "markdown",
      "metadata": {
        "id": "uIgSzJigLZls"
      },
      "source": [
        "1. Detect faces in \"happy_friends_min.jpg\" image"
      ]
    },
    {
      "cell_type": "code",
      "execution_count": null,
      "metadata": {
        "id": "w418rJusKVBx"
      },
      "outputs": [],
      "source": [
        "face_cascade=cv2.CascadeClassifier(r'C:\\Users\\lenovo\\Documents\\VScode datasets\\haarcascade_frontalface_default.xml')\n",
        "img=cv2.imread(r'C:\\Users\\lenovo\\Documents\\VScode datasets\\happy_friends_min.jpg')\n",
        "gray=cv2.cvtColor(img,cv2.COLOR_BGR2GRAY)\n",
        "faces=face_cascade.detectMultiScale(gray,scaleFactor=1.5,\n",
        "                                    minNeighbors =5,\n",
        "                                    minSize=(40,40))\n",
        "for(x,y,w,h) in faces:\n",
        "  cv2.rectangle(img,(x,y),(x+w,y+h),(255,0,255,4))\n",
        "cv2.imshow('Image',img)\n",
        "cv2.waitKey()\n",
        "cv2.destroyAllWindows()"
      ]
    },
    {
      "cell_type": "markdown",
      "metadata": {
        "id": "O2T2npT1Lcp9"
      },
      "source": [
        "2. Detect faces in \"Friends_group.jpg image."
      ]
    },
    {
      "cell_type": "code",
      "execution_count": null,
      "metadata": {
        "id": "12IssFTsKVBy"
      },
      "outputs": [],
      "source": [
        "img2 = cv2.imread(r\"C:\\Users\\lenovo\\Documents\\VScode datasets\\Friends_group.jpg\")\n",
        "gray2 = cv2.cvtColor(img2,cv2.COLOR_BGR2GRAY)\n",
        "faces2 = face_cascade.detectMultiScale(gray2,scaleFactor=1.7,minNeighbors=7,minSize=(30,30))\n",
        "\n",
        "for(x,y,w,h)in faces2:\n",
        "    cv2.rectangle(img2,(x,y),(x+w,y+h),(255,0,255),4)\n",
        "cv2.imshow('Image',img2)\n",
        "cv2.waitKey()\n",
        "cv2.destroyAllWindows()"
      ]
    },
    {
      "cell_type": "markdown",
      "metadata": {
        "id": "-_32mKXsLf5l"
      },
      "source": [
        "3. capture your own video or your group of friends with face detection, write that video and upload the same"
      ]
    },
    {
      "cell_type": "code",
      "execution_count": null,
      "metadata": {
        "id": "Qooau5xtKVBz"
      },
      "outputs": [],
      "source": [
        "#Load the pre-trained Haar Cascade classifier for face detection\n",
        "\n",
        "face_cascade1=cv2.CascadeClassifier(cv2.data.haarcascades+'haarcascade_frontalface_default.xml')\n",
        "\n",
        "#Initialize video capture\n",
        "\n",
        "cap=cv2.VideoCapture(0)\n",
        "\n",
        "#Get width and height of the video capture\n",
        "\n",
        "width = int(cap.get(cv2.CAP_PROP_FRAME_WIDTH))\n",
        "height= int(cap.get(cv2.CAP_PROP_FRAME_HEIGHT))\n",
        "\n",
        "#Define the codec and create VideoWriter object\n",
        "\n",
        "fourcc=cv2.VideoWriter_fourcc(*'XVID')\n",
        "fps=25\n",
        "save_path=r'C:\\Users\\lenovo\\Downloads\\cvr_video.mp4'\n",
        "writer = cv2.VideoWriter(save_path,fourcc,fps,(width,height))\n",
        "\n",
        "while True:\n",
        "    ret,frame = cap.read()\n",
        "\n",
        "    if not ret:\n",
        "        print(\"Failed to grab frame\")\n",
        "        break\n",
        "\n",
        "    #Convert the frame to grayscale for face detection\n",
        "    gray_frame=cv2.cvtColor(frame,cv2.COLOR_BGR2GRAY)\n",
        "\n",
        "    #Detect the faces in the frame\n",
        "    faces= face_cascade1.detectMultiScale(gray_frame,scaleFactor=1.1,minNeighbors=5)\n",
        "\n",
        "    #Draw rectangles around the detcted faces\n",
        "    for (x, y, w, h) in faces:\n",
        "        cv2.rectangle(frame, (x, y), (x + w, y + h), (255, 0, 0), 2)  # Blue rectangle\n",
        "\n",
        "    writer.write(frame)  # Write the frame to the video file\n",
        "    cv2.imshow('frame', frame)  # Display the frame\n",
        "\n",
        "    # Break the loop if 'q' is pressed\n",
        "    if cv2.waitKey(1) & 0xFF == ord('q'):\n",
        "        break\n",
        "\n",
        "#Release resources\n",
        "\n",
        "cap.release()\n",
        "writer.release()  # Make sure to release the writer\n",
        "cv2.destroyAllWindows()\n",
        "\n",
        "\n",
        "\n"
      ]
    },
    {
      "cell_type": "markdown",
      "metadata": {
        "id": "Xrjkztw_LQ1u"
      },
      "source": [
        "#**Conclusion :**\n",
        "\n",
        "By the end of this lesson, I was able to understand and explain the concept of face detection using Haar-Cascade classifiers. I learned how Haar features work to identify facial structures, how the integral image aids in speeding up detection, and the role of the cascade of classifiers in filtering non-face regions efficiently."
      ]
    }
  ],
  "metadata": {
    "colab": {
      "provenance": []
    },
    "kernelspec": {
      "display_name": "Python 3",
      "language": "python",
      "name": "python3"
    },
    "language_info": {
      "codemirror_mode": {
        "name": "ipython",
        "version": 3
      },
      "file_extension": ".py",
      "mimetype": "text/x-python",
      "name": "python",
      "nbconvert_exporter": "python",
      "pygments_lexer": "ipython3",
      "version": "3.8.10"
    }
  },
  "nbformat": 4,
  "nbformat_minor": 0
}
